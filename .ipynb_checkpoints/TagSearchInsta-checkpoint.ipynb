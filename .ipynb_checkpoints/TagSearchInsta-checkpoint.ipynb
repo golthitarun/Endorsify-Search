{
 "cells": [
  {
   "cell_type": "code",
   "execution_count": 1,
   "metadata": {
    "collapsed": true
   },
   "outputs": [],
   "source": [
    "\n",
    "from datetime import datetime\n",
    "\n",
    "from instagram.client import InstagramAPI\n",
    "from clarifai.client import ClarifaiApi\n",
    "from algoliasearch import algoliasearch"
   ]
  },
  {
   "cell_type": "code",
   "execution_count": 2,
   "metadata": {
    "collapsed": true
   },
   "outputs": [],
   "source": [
    "class InstaIndex(object):\n",
    "    \"\"\"\n",
    "    An indexer for Instagram pictures, using Clarifai for image recognition / tagging\n",
    "    and Algolia for indexing and real-time search.\n",
    "    \n",
    "    Parameters\n",
    "    ----------\n",
    "    - instagram_access_token (string)\n",
    "        Your Instagram app user access token\n",
    "    - instagram_client_secret (string)\n",
    "        Your Instagram app client secret\n",
    "    - clarifai_app_id (string)\n",
    "        Your Clarifai app ID\n",
    "    - clarifai_app_secret (string)\n",
    "        Your Clarifai app secret\n",
    "    - algolia_app_id (string)\n",
    "        Your Algolia app ID\n",
    "    - algolia_app_key (string)\n",
    "        Your Algolia app key\n",
    "    - algolia_index_name (string)\n",
    "        Your Algolia search index name\n",
    "    - threshold (float)\n",
    "        A threshold to exclude Clarifai tags if their probability is below it\n",
    "    - max_media (int)\n",
    "        The number of media to index\n",
    "    \"\"\"\n",
    "    def __init__(self, \n",
    "            instagram_access_token, instagram_client_secret, \n",
    "            clarifai_app_id, clarifai_app_secret, \n",
    "            algolia_app_id, algolia_app_key, algolia_index_name,\n",
    "            threshold=1,\n",
    "            max_media=1000,\n",
    "        ):\n",
    "        \n",
    "        self._instagram = InstagramAPI(access_token=instagram_access_token, client_secret=instagram_client_secret)\n",
    "        self._clarifai = ClarifaiApi(clarifai_app_id, clarifai_app_secret)\n",
    "        self._algolia = algoliasearch.Client(algolia_app_id, algolia_app_key).init_index(algolia_index_name)\n",
    "        self._threshold = threshold\n",
    "        self._max_media = max_media"
   ]
  },
  {
   "cell_type": "code",
   "execution_count": 3,
   "metadata": {
    "collapsed": true
   },
   "outputs": [],
   "source": [
    "def run(self):\n",
    "        \"\"\"\n",
    "        Run the indexing process.\n",
    "        \n",
    "        Uses the instagram API to paginate user's media, and call the image recognition\n",
    "        and indexation API for each page's media.\n",
    "        Iterate until we have no media left.\n",
    "        \"\"\"\n",
    "        next_, max_id = True, None\n",
    "        while next_:\n",
    "            recent_media, next_ = self._instagram.user_recent_media(count=self._max_media, max_id=max_id)\n",
    "            media = dict([medium.get_standard_resolution_url(), {\n",
    "                'objectID' : medium.id,\n",
    "                'url' : medium.get_standard_resolution_url(),\n",
    "                'thumbnail' : medium.get_thumbnail_url(),\n",
    "                'title' : medium.caption and medium.caption.text or '',\n",
    "                'created' : datetime.strftime(medium.created_time, '%c'),\n",
    "                'likes' : medium.like_count,\n",
    "                '_geoloc' : hasattr(medium, 'location') and {\n",
    "                    'lat'  : medium.location.point.latitude,\n",
    "                    'lng' : medium.location.point.longitude\n",
    "                } or {\n",
    "                    'lat'  : '',\n",
    "                    'lng' : ''\n",
    "                }\n",
    "            }] for medium in recent_media)\n",
    "            self._tag_and_index(media)\n",
    "            if next_:\n",
    "                max_id = next_.split('max_id=')[1]"
   ]
  },
  {
   "cell_type": "code",
   "execution_count": 4,
   "metadata": {
    "collapsed": true
   },
   "outputs": [],
   "source": [
    " def _tag_and_index(self, media):\n",
    "        \"\"\"\n",
    "        Tag media and index them in the search index.\n",
    "        \n",
    "        Call the Clarifai API only once with all media URLs, excluding videos.\n",
    "        On response, filter to get only tags matching the default threshold or more.\n",
    "        Then, send all tagged images to Algolia for indexing.\n",
    "        \n",
    "        Parameters\n",
    "        ----------\n",
    "        - media (list)\n",
    "            A list of Instagram media (pictures), each of them being a dict of {\n",
    "                'objectID' : the object ID\n",
    "                'url' : the picture URL,\n",
    "                'thumbnail' : the thumbnail URL,\n",
    "                'title' : the picture title, if any,\n",
    "                'created' : the picture creation date,\n",
    "            }\n",
    "        \"\"\"\n",
    "        urls = [medium['url'] for medium in media.values() if not medium['url'].endswith('mp4')]\n",
    "        data = self._clarifai.tag_image_urls(urls)\n",
    "        for result in data['results']:\n",
    "            url, tags = result['url'], result['result']['tag']\n",
    "            tags_dict = dict(zip(tags['classes'], tags['probs']))\n",
    "            media[url]['tags'] = [tag[0] for tag in tags_dict.items() if tag[1] > self._threshold]\n",
    "        self._algolia.save_objects(media.values())"
   ]
  },
  {
   "cell_type": "code",
   "execution_count": null,
   "metadata": {
    "collapsed": true
   },
   "outputs": [],
   "source": []
  }
 ],
 "metadata": {
  "kernelspec": {
   "display_name": "Python 2",
   "language": "python",
   "name": "python2"
  },
  "language_info": {
   "codemirror_mode": {
    "name": "ipython",
    "version": 2
   },
   "file_extension": ".py",
   "mimetype": "text/x-python",
   "name": "python",
   "nbconvert_exporter": "python",
   "pygments_lexer": "ipython2",
   "version": "2.7.13"
  }
 },
 "nbformat": 4,
 "nbformat_minor": 2
}
